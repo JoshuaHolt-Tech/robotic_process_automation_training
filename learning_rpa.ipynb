{
 "cells": [
  {
   "cell_type": "markdown",
   "id": "70e1f6b3-ce76-4731-a6ab-5aa40ba9a191",
   "metadata": {},
   "source": [
    "# PyAutoGUI"
   ]
  },
  {
   "cell_type": "code",
   "execution_count": 1,
   "id": "365c3b7e-954d-496c-9873-ad7450cd3d25",
   "metadata": {},
   "outputs": [],
   "source": [
    "import pyautogui as robo"
   ]
  },
  {
   "cell_type": "code",
   "execution_count": 2,
   "id": "2130d5fa-263b-46ea-af4e-3aab6428de7b",
   "metadata": {},
   "outputs": [],
   "source": [
    "import pandas as pd\n",
    "import numpy as np\n"
   ]
  },
  {
   "cell_type": "code",
   "execution_count": 3,
   "id": "ab19db22-ed49-4a17-b8cc-f7d86c84016f",
   "metadata": {},
   "outputs": [
    {
     "name": "stdout",
     "output_type": "stream",
     "text": [
      "1920 1080\n"
     ]
    }
   ],
   "source": [
    "#Get screen size\n",
    "screen_width, screen_height = robo.size()\n",
    "print(screen_width, screen_height)"
   ]
  },
  {
   "cell_type": "code",
   "execution_count": 4,
   "id": "7c57327c-447e-4ee8-90fb-c9eea43c80cf",
   "metadata": {},
   "outputs": [],
   "source": [
    "#Move the mouse\n",
    "robo.moveTo(100, 150)"
   ]
  },
  {
   "cell_type": "code",
   "execution_count": 5,
   "id": "a8d9b0d9-b609-4399-b3ab-33a80c57a69f",
   "metadata": {},
   "outputs": [],
   "source": [
    "#Click the mouse\n",
    "robo.click()"
   ]
  },
  {
   "cell_type": "code",
   "execution_count": 6,
   "id": "c69517fd-a5c1-407e-9c9d-7b0ae4bfb817",
   "metadata": {},
   "outputs": [],
   "source": [
    "#Type text\n",
    "robo.write(\"Hello, world!\", interval=0.1)"
   ]
  },
  {
   "cell_type": "markdown",
   "id": "9b8764bc-ccca-4339-9b41-5bc8ce5f1c0b",
   "metadata": {},
   "source": [
    "Hello, world!"
   ]
  },
  {
   "cell_type": "code",
   "execution_count": 7,
   "id": "97a60af0-54c2-445a-9d87-5c8b671db3e8",
   "metadata": {},
   "outputs": [],
   "source": [
    "#Scroll the mouse\n",
    "robo.scroll(20) #Doesn't seem to do anything.."
   ]
  },
  {
   "cell_type": "code",
   "execution_count": 8,
   "id": "f94825cc-6aaa-4899-8f16-874a8d1b05b6",
   "metadata": {},
   "outputs": [],
   "source": [
    "robo.press(\"m\")"
   ]
  },
  {
   "cell_type": "raw",
   "id": "a7adbd91-a877-4e4b-9b41-376594e9a6f7",
   "metadata": {},
   "source": [
    "This markdown cell was created by automation."
   ]
  },
  {
   "cell_type": "code",
   "execution_count": 9,
   "id": "f6003e3e-aec1-4dcc-b7b5-d976af3adf9a",
   "metadata": {},
   "outputs": [],
   "source": [
    "robo.hotkey(\"shift\", \"enter\")"
   ]
  },
  {
   "cell_type": "code",
   "execution_count": null,
   "id": "7b9b9a7c-f124-430e-a8e2-59a2bdca8e86",
   "metadata": {},
   "outputs": [],
   "source": []
  },
  {
   "cell_type": "code",
   "execution_count": 10,
   "id": "030339fc-274a-4546-b985-4597f53f5cb8",
   "metadata": {},
   "outputs": [],
   "source": [
    "#Don't upload to github\n",
    "#screenshot = robo.screenshot(\"this_is_my_computer.png\")"
   ]
  },
  {
   "cell_type": "code",
   "execution_count": 11,
   "id": "5c2f2433-d8d3-4359-8ea9-703ae127658d",
   "metadata": {},
   "outputs": [],
   "source": [
    "#RPA can locate images on the screen!\n",
    "#image_path = \"image_to_locate.png\"\n",
    "#robo.locateOnScreen(image_path)\n",
    "#Returns a tuple of x,y of top left corner and the width and height or `None`"
   ]
  },
  {
   "cell_type": "markdown",
   "id": "7318aa9d-b4e4-44f7-88d4-b42cf409d8b6",
   "metadata": {},
   "source": [
    "This cell was created using automation!"
   ]
  },
  {
   "cell_type": "code",
   "execution_count": null,
   "id": "5d87f2bc-436d-40f8-b857-cd8a14194829",
   "metadata": {},
   "outputs": [],
   "source": []
  },
  {
   "cell_type": "markdown",
   "id": "24095522-cf8e-48b3-8811-80d31ae3dc31",
   "metadata": {},
   "source": [
    "# Selenium"
   ]
  },
  {
   "cell_type": "code",
   "execution_count": 12,
   "id": "4f6676dd-335b-4700-a931-4fb80a271d3a",
   "metadata": {},
   "outputs": [],
   "source": [
    "from selenium import webdriver\n",
    "from selenium.webdriver.common.by import By"
   ]
  },
  {
   "cell_type": "markdown",
   "id": "de6342ec-67dc-4e72-876a-ee8a0a4d7f2d",
   "metadata": {},
   "source": [
    "#Create a new instance of the Firefox driver\n",
    "driver = webdriver.Firefox()"
   ]
  },
  {
   "cell_type": "code",
   "execution_count": 13,
   "id": "fd53bb5f-23de-418e-aa48-864f7ddac5fe",
   "metadata": {},
   "outputs": [
    {
     "name": "stderr",
     "output_type": "stream",
     "text": [
      "C:\\Users\\joshu\\AppData\\Local\\Temp\\ipykernel_12984\\1215760760.py:1: DeprecationWarning: executable_path has been deprecated, please pass in a Service object\n",
      "  driver = webdriver.Firefox(executable_path=r'C:\\Users\\joshu\\Downloads\\geckodriver-v0.33.0-win64\\geckodriver.exe')\n"
     ]
    }
   ],
   "source": [
    "driver = webdriver.Firefox(executable_path=r'C:\\Users\\joshu\\Downloads\\geckodriver-v0.33.0-win64\\geckodriver.exe')"
   ]
  },
  {
   "cell_type": "code",
   "execution_count": 14,
   "id": "672ebfd5-590a-46e3-8858-6461cbdc6749",
   "metadata": {},
   "outputs": [],
   "source": [
    "driver.get(\"https://www.google.com\")\n",
    "search_box = driver.find_element(By.NAME, \"q\")\n",
    "search_box.send_keys(\"Hello World! Beginnings\")\n",
    "search_box.submit()"
   ]
  },
  {
   "cell_type": "code",
   "execution_count": null,
   "id": "cbcbe2d9-b295-4b23-998c-04e00332866a",
   "metadata": {},
   "outputs": [],
   "source": []
  }
 ],
 "metadata": {
  "kernelspec": {
   "display_name": "Python 3 (ipykernel)",
   "language": "python",
   "name": "python3"
  },
  "language_info": {
   "codemirror_mode": {
    "name": "ipython",
    "version": 3
   },
   "file_extension": ".py",
   "mimetype": "text/x-python",
   "name": "python",
   "nbconvert_exporter": "python",
   "pygments_lexer": "ipython3",
   "version": "3.10.11"
  }
 },
 "nbformat": 4,
 "nbformat_minor": 5
}
