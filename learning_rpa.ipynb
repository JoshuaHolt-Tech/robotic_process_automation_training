{
 "cells": [
  {
   "cell_type": "markdown",
   "id": "70e1f6b3-ce76-4731-a6ab-5aa40ba9a191",
   "metadata": {},
   "source": [
    "# PyAutoGUI"
   ]
  },
  {
   "cell_type": "code",
   "execution_count": 1,
   "id": "365c3b7e-954d-496c-9873-ad7450cd3d25",
   "metadata": {},
   "outputs": [],
   "source": [
    "import pyautogui as robo"
   ]
  },
  {
   "cell_type": "code",
   "execution_count": 2,
   "id": "2130d5fa-263b-46ea-af4e-3aab6428de7b",
   "metadata": {},
   "outputs": [],
   "source": [
    "import pandas as pd\n",
    "import numpy as np\n",
    "import time"
   ]
  },
  {
   "cell_type": "code",
   "execution_count": 3,
   "id": "ab19db22-ed49-4a17-b8cc-f7d86c84016f",
   "metadata": {},
   "outputs": [
    {
     "name": "stdout",
     "output_type": "stream",
     "text": [
      "1920 1080\n"
     ]
    }
   ],
   "source": [
    "#Get screen size\n",
    "screen_width, screen_height = robo.size()\n",
    "print(screen_width, screen_height)"
   ]
  },
  {
   "cell_type": "code",
   "execution_count": 4,
   "id": "7c57327c-447e-4ee8-90fb-c9eea43c80cf",
   "metadata": {},
   "outputs": [],
   "source": [
    "#Move the mouse\n",
    "robo.moveTo(100, 150)"
   ]
  },
  {
   "cell_type": "code",
   "execution_count": 5,
   "id": "a8d9b0d9-b609-4399-b3ab-33a80c57a69f",
   "metadata": {},
   "outputs": [],
   "source": [
    "#Click the mouse\n",
    "robo.click()"
   ]
  },
  {
   "cell_type": "code",
   "execution_count": 6,
   "id": "c69517fd-a5c1-407e-9c9d-7b0ae4bfb817",
   "metadata": {},
   "outputs": [],
   "source": [
    "#Type text\n",
    "robo.write(\"Hello, world!\", interval=0.1)"
   ]
  },
  {
   "cell_type": "markdown",
   "id": "9b8764bc-ccca-4339-9b41-5bc8ce5f1c0b",
   "metadata": {},
   "source": [
    "Hello, world!"
   ]
  },
  {
   "cell_type": "code",
   "execution_count": 7,
   "id": "97a60af0-54c2-445a-9d87-5c8b671db3e8",
   "metadata": {},
   "outputs": [],
   "source": [
    "#Scroll the mouse\n",
    "robo.scroll(20) #Doesn't seem to do anything.."
   ]
  },
  {
   "cell_type": "code",
   "execution_count": 8,
   "id": "f94825cc-6aaa-4899-8f16-874a8d1b05b6",
   "metadata": {},
   "outputs": [],
   "source": [
    "robo.press(\"m\")"
   ]
  },
  {
   "cell_type": "raw",
   "id": "a7adbd91-a877-4e4b-9b41-376594e9a6f7",
   "metadata": {},
   "source": [
    "This markdown cell was created by automation."
   ]
  },
  {
   "cell_type": "code",
   "execution_count": 9,
   "id": "f6003e3e-aec1-4dcc-b7b5-d976af3adf9a",
   "metadata": {},
   "outputs": [],
   "source": [
    "robo.hotkey(\"shift\", \"enter\")"
   ]
  },
  {
   "cell_type": "code",
   "execution_count": null,
   "id": "7b9b9a7c-f124-430e-a8e2-59a2bdca8e86",
   "metadata": {},
   "outputs": [],
   "source": []
  },
  {
   "cell_type": "code",
   "execution_count": 10,
   "id": "030339fc-274a-4546-b985-4597f53f5cb8",
   "metadata": {},
   "outputs": [],
   "source": [
    "#Don't upload to github\n",
    "#screenshot = robo.screenshot(\"this_is_my_computer.png\")"
   ]
  },
  {
   "cell_type": "code",
   "execution_count": 11,
   "id": "5c2f2433-d8d3-4359-8ea9-703ae127658d",
   "metadata": {},
   "outputs": [],
   "source": [
    "#RPA can locate images on the screen!\n",
    "#image_path = \"image_to_locate.png\"\n",
    "#robo.locateOnScreen(image_path)\n",
    "#Returns a tuple of x,y of top left corner and the width and height or `None`"
   ]
  },
  {
   "cell_type": "markdown",
   "id": "7318aa9d-b4e4-44f7-88d4-b42cf409d8b6",
   "metadata": {},
   "source": [
    "This cell was created using automation!"
   ]
  },
  {
   "cell_type": "code",
   "execution_count": null,
   "id": "5d87f2bc-436d-40f8-b857-cd8a14194829",
   "metadata": {},
   "outputs": [],
   "source": []
  },
  {
   "cell_type": "markdown",
   "id": "24095522-cf8e-48b3-8811-80d31ae3dc31",
   "metadata": {},
   "source": [
    "# Selenium"
   ]
  },
  {
   "cell_type": "code",
   "execution_count": 12,
   "id": "4f6676dd-335b-4700-a931-4fb80a271d3a",
   "metadata": {},
   "outputs": [],
   "source": [
    "from selenium import webdriver\n",
    "from selenium.webdriver.common.by import By\n",
    "from selenium.webdriver.support.ui import WebDriverWait\n",
    "from selenium.webdriver.support import expected_conditions as EC"
   ]
  },
  {
   "cell_type": "markdown",
   "id": "de6342ec-67dc-4e72-876a-ee8a0a4d7f2d",
   "metadata": {},
   "source": [
    "#Create a new instance of the Firefox driver\n",
    "driver = webdriver.Firefox()"
   ]
  },
  {
   "cell_type": "code",
   "execution_count": 13,
   "id": "fd53bb5f-23de-418e-aa48-864f7ddac5fe",
   "metadata": {},
   "outputs": [
    {
     "name": "stderr",
     "output_type": "stream",
     "text": [
      "C:\\Users\\joshu\\AppData\\Local\\Temp\\ipykernel_10960\\1215760760.py:1: DeprecationWarning: executable_path has been deprecated, please pass in a Service object\n",
      "  driver = webdriver.Firefox(executable_path=r'C:\\Users\\joshu\\Downloads\\geckodriver-v0.33.0-win64\\geckodriver.exe')\n"
     ]
    }
   ],
   "source": [
    "driver = webdriver.Firefox(executable_path=r'C:\\Users\\joshu\\Downloads\\geckodriver-v0.33.0-win64\\geckodriver.exe')"
   ]
  },
  {
   "cell_type": "code",
   "execution_count": 14,
   "id": "672ebfd5-590a-46e3-8858-6461cbdc6749",
   "metadata": {},
   "outputs": [],
   "source": [
    "driver.get(\"https://www.google.com\")\n",
    "search_box = driver.find_element(By.NAME, \"q\")\n",
    "search_box.send_keys(\"Hello World! Beginnings\")\n",
    "search_box.submit()\n",
    "time.sleep(3)"
   ]
  },
  {
   "cell_type": "code",
   "execution_count": 15,
   "id": "cefc2763-6b7e-4a5e-b5eb-116767fab94b",
   "metadata": {},
   "outputs": [],
   "source": [
    "driver.get(\"https://blog.hubspot.com/marketing/web-forms\")\n",
    "try:\n",
    "    button = WebDriverWait(driver, 5).until(EC.element_to_be_clickable((By.ID, \"hs-eu-decline-button\")))\n",
    "    button.click()\n",
    "finally:\n",
    "    time.sleep(5)\n",
    "    driver.quit()"
   ]
  },
  {
   "cell_type": "markdown",
   "id": "cc957475-f201-472e-9fc4-8fdb42a0fdcf",
   "metadata": {},
   "source": [
    "# OS and shutil"
   ]
  },
  {
   "cell_type": "code",
   "execution_count": 16,
   "id": "a461c2e3-4983-44de-99b8-433ba13ace33",
   "metadata": {},
   "outputs": [],
   "source": [
    "import shutil\n",
    "import os\n",
    "\n",
    "os.mkdir(\"New_directory\")\n",
    "time.sleep(3)\n",
    "os.rmdir(\"New_directory\")\n",
    "\n",
    "# Get disk usage statistics\n",
    "total, used, free = shutil.disk_usage(\"/\")\n",
    "\n",
    "#print(\"Total: %d GiB\" % (total // (2**30)))\n",
    "#print(\"Used: %d GiB\" % (used // (2**30)))\n",
    "#print(\"Free: %d GiB\" % (free // (2**30)))"
   ]
  },
  {
   "cell_type": "markdown",
   "id": "7f3d5caf-6f5c-4148-918c-17ef433907d2",
   "metadata": {},
   "source": [
    "# Email and API Automation"
   ]
  },
  {
   "cell_type": "code",
   "execution_count": 17,
   "id": "720a3015-62a0-4c33-be6e-37358e249a94",
   "metadata": {},
   "outputs": [],
   "source": [
    "import smtplib, requests"
   ]
  },
  {
   "cell_type": "code",
   "execution_count": 18,
   "id": "80c8ca46-2710-4f47-b015-792fbf2e68a0",
   "metadata": {},
   "outputs": [],
   "source": [
    "response = requests.get(\"https://api.github.com\")"
   ]
  },
  {
   "cell_type": "code",
   "execution_count": 19,
   "id": "1b2d21c8-2e3e-482e-a649-19b716aac011",
   "metadata": {},
   "outputs": [
    {
     "name": "stdout",
     "output_type": "stream",
     "text": [
      "200\n"
     ]
    }
   ],
   "source": [
    "print(response.status_code)"
   ]
  },
  {
   "cell_type": "code",
   "execution_count": 20,
   "id": "b1db5871-5c8d-45ed-865e-452763ccdd6c",
   "metadata": {},
   "outputs": [
    {
     "name": "stdout",
     "output_type": "stream",
     "text": [
      "{'Server': 'GitHub.com', 'Date': 'Tue, 13 Jun 2023 15:04:48 GMT', 'Cache-Control': 'public, max-age=60, s-maxage=60', 'Vary': 'Accept, Accept-Encoding, Accept, X-Requested-With', 'ETag': '\"4f825cc84e1c733059d46e76e6df9db557ae5254f9625dfe8e1b09499c449438\"', 'x-github-api-version-selected': '2022-11-28', 'Access-Control-Expose-Headers': 'ETag, Link, Location, Retry-After, X-GitHub-OTP, X-RateLimit-Limit, X-RateLimit-Remaining, X-RateLimit-Used, X-RateLimit-Resource, X-RateLimit-Reset, X-OAuth-Scopes, X-Accepted-OAuth-Scopes, X-Poll-Interval, X-GitHub-Media-Type, X-GitHub-SSO, X-GitHub-Request-Id, Deprecation, Sunset', 'Access-Control-Allow-Origin': '*', 'Strict-Transport-Security': 'max-age=31536000; includeSubdomains; preload', 'X-Frame-Options': 'deny', 'X-Content-Type-Options': 'nosniff', 'X-XSS-Protection': '0', 'Referrer-Policy': 'origin-when-cross-origin, strict-origin-when-cross-origin', 'Content-Security-Policy': \"default-src 'none'\", 'Content-Type': 'application/json; charset=utf-8', 'X-GitHub-Media-Type': 'github.v3; format=json', 'Content-Encoding': 'gzip', 'X-RateLimit-Limit': '60', 'X-RateLimit-Remaining': '59', 'X-RateLimit-Reset': '1686672293', 'X-RateLimit-Resource': 'core', 'X-RateLimit-Used': '1', 'Accept-Ranges': 'bytes', 'Content-Length': '510', 'X-GitHub-Request-Id': '82FC:429E:161445:2CEF79:64888595'}\n"
     ]
    }
   ],
   "source": [
    "print(response.headers)"
   ]
  },
  {
   "cell_type": "code",
   "execution_count": 21,
   "id": "42aa0257-adb6-490f-b4db-b7ce862b1e1b",
   "metadata": {},
   "outputs": [
    {
     "name": "stdout",
     "output_type": "stream",
     "text": [
      "b'{\"current_user_url\":\"https://api.github.com/user\",\"current_user_authorizations_html_url\":\"https://github.com/settings/connection'\n",
      "b's/applications{/client_id}\",\"authorizations_url\":\"https://api.github.com/authorizations\",\"code_search_url\":\"https://api.github.c'\n",
      "b'om/search/code?q={query}{&page,per_page,sort,order}\",\"commit_search_url\":\"https://api.github.com/search/commits?q={query}{&page,'\n",
      "b'per_page,sort,order}\",\"emails_url\":\"https://api.github.com/user/emails\",\"emojis_url\":\"https://api.github.com/emojis\",\"events_url'\n",
      "b'\":\"https://api.github.com/events\",\"feeds_url\":\"https://api.github.com/feeds\",\"followers_url\":\"https://api.github.com/user/follow'\n",
      "b'ers\",\"following_url\":\"https://api.github.com/user/following{/target}\",\"gists_url\":\"https://api.github.com/gists{/gist_id}\",\"hub_'\n",
      "b'url\":\"https://api.github.com/hub\",\"issue_search_url\":\"https://api.github.com/search/issues?q={query}{&page,per_page,sort,order}\"'\n",
      "b',\"issues_url\":\"https://api.github.com/issues\",\"keys_url\":\"https://api.github.com/user/keys\",\"label_search_url\":\"https://api.gith'\n",
      "b'ub.com/search/labels?q={query}&repository_id={repository_id}{&page,per_page}\",\"notifications_url\":\"https://api.github.com/notifi'\n",
      "b'cations\",\"organization_url\":\"https://api.github.com/orgs/{org}\",\"organization_repositories_url\":\"https://api.github.com/orgs/{or'\n",
      "b'g}/repos{?type,page,per_page,sort}\",\"organization_teams_url\":\"https://api.github.com/orgs/{org}/teams\",\"public_gists_url\":\"https'\n",
      "b'://api.github.com/gists/public\",\"rate_limit_url\":\"https://api.github.com/rate_limit\",\"repository_url\":\"https://api.github.com/re'\n",
      "b'pos/{owner}/{repo}\",\"repository_search_url\":\"https://api.github.com/search/repositories?q={query}{&page,per_page,sort,order}\",\"c'\n",
      "b'urrent_user_repositories_url\":\"https://api.github.com/user/repos{?type,page,per_page,sort}\",\"starred_url\":\"https://api.github.co'\n",
      "b'm/user/starred{/owner}{/repo}\",\"starred_gists_url\":\"https://api.github.com/gists/starred\",\"topic_search_url\":\"https://api.github'\n",
      "b'.com/search/topics?q={query}{&page,per_page}\",\"user_url\":\"https://api.github.com/users/{user}\",\"user_organizations_url\":\"https:/'\n",
      "b'/api.github.com/user/orgs\",\"user_repositories_url\":\"https://api.github.com/users/{user}/repos{?type,page,per_page,sort}\",\"user_s'\n",
      "b'earch_url\":\"https://api.github.com/search/users?q={query}{&page,per_page,sort,order}\"}'\n"
     ]
    }
   ],
   "source": [
    "for item in response:\n",
    "    print(item)"
   ]
  },
  {
   "cell_type": "markdown",
   "id": "c4cea4a3-fdfe-47a8-8a1a-29c2c3425f58",
   "metadata": {},
   "source": [
    "** Doing API automation when I learn about how to build APIs **"
   ]
  },
  {
   "cell_type": "code",
   "execution_count": null,
   "id": "836c82a0-4e64-4b6d-82e7-39a66820f9ba",
   "metadata": {},
   "outputs": [],
   "source": []
  }
 ],
 "metadata": {
  "kernelspec": {
   "display_name": "Python 3 (ipykernel)",
   "language": "python",
   "name": "python3"
  },
  "language_info": {
   "codemirror_mode": {
    "name": "ipython",
    "version": 3
   },
   "file_extension": ".py",
   "mimetype": "text/x-python",
   "name": "python",
   "nbconvert_exporter": "python",
   "pygments_lexer": "ipython3",
   "version": "3.10.9"
  }
 },
 "nbformat": 4,
 "nbformat_minor": 5
}
